{
    "cells": [
        {
            "metadata": {
                "collapsed": true
            },
            "cell_type": "markdown",
            "source": "# My Jupiter Notebook on IBM Watson Studio"
        },
        {
            "metadata": {},
            "cell_type": "markdown",
            "source": "**Juan Uran**"
        },
        {
            "metadata": {},
            "cell_type": "markdown",
            "source": "I'm an industrial engineer looking to learn more about the data science world"
        },
        {
            "metadata": {},
            "cell_type": "markdown",
            "source": "*I'm interested in data science because I'm looking to improve my carreer as a business analyst*"
        },
        {
            "metadata": {},
            "cell_type": "markdown",
            "source": "### The code below should print the result of 1 + 1 "
        },
        {
            "metadata": {},
            "cell_type": "code",
            "source": "print(1+1) ",
            "execution_count": 1,
            "outputs": [
                {
                    "output_type": "stream",
                    "text": "2\n",
                    "name": "stdout"
                }
            ]
        },
        {
            "metadata": {},
            "cell_type": "markdown",
            "source": "1. One\n1. two\n1. three\n1. four\n\n__www.ibm.com__\n\n|this|is|a table|\n|----|--|-------|\n|value1|1|ok|"
        },
        {
            "metadata": {},
            "cell_type": "code",
            "source": "",
            "execution_count": null,
            "outputs": []
        }
    ],
    "metadata": {
        "kernelspec": {
            "name": "python3",
            "display_name": "Python 3.9",
            "language": "python"
        },
        "language_info": {
            "name": "python",
            "version": "3.9.12",
            "mimetype": "text/x-python",
            "codemirror_mode": {
                "name": "ipython",
                "version": 3
            },
            "pygments_lexer": "ipython3",
            "nbconvert_exporter": "python",
            "file_extension": ".py"
        }
    },
    "nbformat": 4,
    "nbformat_minor": 1
}